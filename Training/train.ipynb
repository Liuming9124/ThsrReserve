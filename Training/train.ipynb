{
 "cells": [
  {
   "cell_type": "code",
   "execution_count": 3,
   "metadata": {},
   "outputs": [],
   "source": [
    "import os\n",
    "from tensorflow import keras\n",
    "from keras.utils import load_img\n",
    "from keras.utils import img_to_array\n",
    "import numpy as np\n",
    "import cv2"
   ]
  },
  {
   "cell_type": "code",
   "execution_count": 4,
   "metadata": {},
   "outputs": [],
   "source": [
    "from csv import reader\n",
    "\n",
    "# Load a CSV file\n",
    "def load_csv(filename):\n",
    "\tfile = open(filename, \"r\")\n",
    "\tlines = reader(file)\n",
    "\tdataset = list(lines)\n",
    "\treturn dataset"
   ]
  },
  {
   "cell_type": "code",
   "execution_count": 5,
   "metadata": {},
   "outputs": [
    {
     "name": "stdout",
     "output_type": "stream",
     "text": [
      "(35000, 48, 25, 3)   (5000, 48, 25, 3)\n"
     ]
    }
   ],
   "source": [
    "PROCESSED_FOLDER = 'processed/'\n",
    "\n",
    "dataset  =[]\n",
    "train_ds=[]\n",
    "valid_ds=[]\n",
    "\n",
    "# 將驗證碼切成四碼\n",
    "# 先長後寬 先左上角後右下角\n",
    "split0 = ( 20, 0, 45,48)\n",
    "split1 = ( 45, 0, 70,48)\n",
    "split2 = ( 70, 0, 95,48)\n",
    "split3 = ( 95, 0,120,48)\n",
    "\n",
    "for i in range(101,10101):\n",
    "    path = PROCESSED_FOLDER + str(i) + '.jpg'\n",
    "    img = cv2.imread(path)\n",
    "    dataset.append(img[split0[1]:split0[3], split0[0]: split0[2]])\n",
    "    dataset.append(img[split1[1]:split1[3], split1[0]: split1[2]])\n",
    "    dataset.append(img[split2[1]:split2[3], split2[0]: split2[2]])\n",
    "    dataset.append(img[split3[1]:split3[3], split3[0]: split3[2]])\n",
    "\n",
    "np.array(dataset).shape\n",
    "\n",
    "train_ds = np.array(dataset[5000:40000])\n",
    "valid_ds = np.array(dataset[0:5000])\n",
    "\n",
    "train_ds = np.array(train_ds)\n",
    "valid_ds = np.array(valid_ds)\n",
    "\n",
    "print(train_ds.shape,' ',valid_ds.shape)\n"
   ]
  },
  {
   "cell_type": "code",
   "execution_count": 6,
   "metadata": {},
   "outputs": [],
   "source": [
    "# allow chars, chars to one hot , len(allow chars)\n",
    "def one_hot (allow, char, length):\n",
    "    init=[]\n",
    "    for i in range(length):\n",
    "        init.append(0)\n",
    "    # print(allow.indes(char))\n",
    "    init[allow.index(char)]=1\n",
    "    # print(init)\n",
    "    return init"
   ]
  },
  {
   "cell_type": "code",
   "execution_count": 21,
   "metadata": {},
   "outputs": [
    {
     "name": "stdout",
     "output_type": "stream",
     "text": [
      "(35000, 24)   (5000, 24)\n"
     ]
    }
   ],
   "source": [
    "size = ( 48, 140)\n",
    "allow_chars = ['H', 'R', '3', '7', '5', 'Y', 'F', 'Z', 'C', '9', 'Q', 'T', 'N', '2', 'P', 'A', 'K', 'M', '4', '6', 'V', 'D', 'W', 'G']\n",
    "\n",
    "# CSV loading\n",
    "\n",
    "labelset =[]\n",
    "train_lb=[]\n",
    "valid_lb=[]\n",
    "\n",
    "labels = load_csv('./label.csv')\n",
    "\n",
    "# print(np.array(labels).shape)\n",
    "# input()\n",
    "\n",
    "for i in range(100,10100):\n",
    "    for j in labels[i]:\n",
    "        for k in j:\n",
    "            labelset.append(k)\n",
    "\n",
    "for i in range(len(labelset)):\n",
    "    labelset[i] = one_hot(allow_chars,labelset[i],len(allow_chars))\n",
    "# print(np.array(labelset).shape)\n",
    "\n",
    "# print(len(labelset))\n",
    "train_lb = np.array(labelset[5000:40000])\n",
    "valid_lb = np.array(labelset[0:5000])\n",
    "\n",
    "print(train_lb.shape,' ',valid_lb.shape)"
   ]
  },
  {
   "cell_type": "code",
   "execution_count": 23,
   "metadata": {},
   "outputs": [
    {
     "name": "stdout",
     "output_type": "stream",
     "text": [
      "Model: \"model_1\"\n",
      "_________________________________________________________________\n",
      " Layer (type)                Output Shape              Param #   \n",
      "=================================================================\n",
      " input_2 (InputLayer)        [(None, 48, 25, 3)]       0         \n",
      "                                                                 \n",
      " conv2d_8 (Conv2D)           (None, 48, 25, 32)        896       \n",
      "                                                                 \n",
      " conv2d_9 (Conv2D)           (None, 48, 25, 32)        9248      \n",
      "                                                                 \n",
      " max_pooling2d_4 (MaxPooling  (None, 24, 12, 32)       0         \n",
      " 2D)                                                             \n",
      "                                                                 \n",
      " conv2d_10 (Conv2D)          (None, 24, 12, 64)        18496     \n",
      "                                                                 \n",
      " conv2d_11 (Conv2D)          (None, 24, 12, 64)        36928     \n",
      "                                                                 \n",
      " max_pooling2d_5 (MaxPooling  (None, 12, 6, 64)        0         \n",
      " 2D)                                                             \n",
      "                                                                 \n",
      " conv2d_12 (Conv2D)          (None, 12, 6, 128)        73856     \n",
      "                                                                 \n",
      " conv2d_13 (Conv2D)          (None, 12, 6, 128)        147584    \n",
      "                                                                 \n",
      " batch_normalization_1 (Batc  (None, 12, 6, 128)       48        \n",
      " hNormalization)                                                 \n",
      "                                                                 \n",
      " max_pooling2d_6 (MaxPooling  (None, 6, 3, 128)        0         \n",
      " 2D)                                                             \n",
      "                                                                 \n",
      " conv2d_14 (Conv2D)          (None, 6, 3, 256)         295168    \n",
      "                                                                 \n",
      " conv2d_15 (Conv2D)          (None, 6, 3, 256)         590080    \n",
      "                                                                 \n",
      " max_pooling2d_7 (MaxPooling  (None, 3, 1, 256)        0         \n",
      " 2D)                                                             \n",
      "                                                                 \n",
      " flatten_1 (Flatten)         (None, 768)               0         \n",
      "                                                                 \n",
      " dropout_1 (Dropout)         (None, 768)               0         \n",
      "                                                                 \n",
      " dense_1 (Dense)             (None, 24)                18456     \n",
      "                                                                 \n",
      "=================================================================\n",
      "Total params: 1,190,760\n",
      "Trainable params: 1,190,736\n",
      "Non-trainable params: 24\n",
      "_________________________________________________________________\n",
      "Epoch 1/10\n",
      "1094/1094 [==============================] - 436s 397ms/step - loss: 0.6484 - accuracy: 0.7947 - val_loss: 0.3019 - val_accuracy: 0.9462\n",
      "Epoch 2/10\n",
      "1094/1094 [==============================] - 482s 441ms/step - loss: 0.1354 - accuracy: 0.9640 - val_loss: 0.2708 - val_accuracy: 0.9574\n",
      "Epoch 3/10\n",
      "1094/1094 [==============================] - 385s 352ms/step - loss: 0.0993 - accuracy: 0.9740 - val_loss: 0.3240 - val_accuracy: 0.9630\n",
      "Epoch 4/10\n",
      "1094/1094 [==============================] - 472s 431ms/step - loss: 0.0812 - accuracy: 0.9785 - val_loss: 0.2992 - val_accuracy: 0.9650\n",
      "Epoch 5/10\n",
      "1094/1094 [==============================] - 317s 290ms/step - loss: 0.0666 - accuracy: 0.9831 - val_loss: 0.2708 - val_accuracy: 0.9662\n",
      "Epoch 6/10\n",
      "1094/1094 [==============================] - 270s 246ms/step - loss: 0.0595 - accuracy: 0.9836 - val_loss: 0.3593 - val_accuracy: 0.9662\n",
      "Epoch 7/10\n",
      "1094/1094 [==============================] - 270s 247ms/step - loss: 0.0537 - accuracy: 0.9861 - val_loss: 0.4026 - val_accuracy: 0.9556\n",
      "Epoch 8/10\n",
      "1094/1094 [==============================] - 270s 246ms/step - loss: 0.0493 - accuracy: 0.9873 - val_loss: 0.4151 - val_accuracy: 0.9636\n",
      "Epoch 9/10\n",
      "1094/1094 [==============================] - 275s 252ms/step - loss: 0.0416 - accuracy: 0.9890 - val_loss: 0.3659 - val_accuracy: 0.9656\n",
      "Epoch 10/10\n",
      "1094/1094 [==============================] - 277s 253ms/step - loss: 0.0350 - accuracy: 0.9907 - val_loss: 0.4564 - val_accuracy: 0.9662\n"
     ]
    }
   ],
   "source": [
    "from buildmodel import build_model\n",
    "\n",
    "model = build_model(25,48,allow_chars)\n",
    "\n",
    "model.compile(optimizer='adam', loss='categorical_crossentropy', metrics=['accuracy'])\n",
    "history_model1=model.fit(\n",
    "    train_ds,\n",
    "    train_lb,\n",
    "    batch_size=32,\n",
    "    epochs=10,\n",
    "    validation_split=0.2,\n",
    "    validation_data=(valid_ds,valid_lb)\n",
    ")"
   ]
  },
  {
   "cell_type": "code",
   "execution_count": null,
   "metadata": {},
   "outputs": [],
   "source": [
    "from keras.models import load_model\n",
    "\n",
    "model.save('model.h5')  # creates a HDF5 file 'model.h5'\n"
   ]
  },
  {
   "attachments": {},
   "cell_type": "markdown",
   "metadata": {},
   "source": [
    "# 驗證是否成功"
   ]
  },
  {
   "cell_type": "code",
   "execution_count": null,
   "metadata": {},
   "outputs": [],
   "source": [
    "# from keras.models import load_model\n",
    "# from tensorflow import keras\n",
    "# import numpy as np\n",
    "# # 載入模型\n",
    "# model = load_model('my_model.h5')"
   ]
  },
  {
   "cell_type": "code",
   "execution_count": null,
   "metadata": {},
   "outputs": [],
   "source": [
    "\n",
    "# def decode (de):\n",
    "#     output=[]\n",
    "#     allow_chars = ['H', 'R', '3', '7', '5', 'Y', 'F', 'Z', 'C', '9', 'Q', 'T', 'N', '2', 'P', 'A', 'K', 'M', '4']\n",
    "#     for i in range(4):\n",
    "#         j = de[i]\n",
    "#         output.append(allow_chars[j])\n",
    "#     return output"
   ]
  },
  {
   "cell_type": "code",
   "execution_count": null,
   "metadata": {},
   "outputs": [
    {
     "name": "stdout",
     "output_type": "stream",
     "text": [
      "1/1 [==============================] - 0s 31ms/step\n",
      "['3', 'C', 'R', '9']\n"
     ]
    }
   ],
   "source": [
    "# de = np.argmax(model.predict(train_ds[12:16]),axis=1)\n",
    "# print(decode(de))"
   ]
  }
 ],
 "metadata": {
  "kernelspec": {
   "display_name": "base",
   "language": "python",
   "name": "python3"
  },
  "language_info": {
   "codemirror_mode": {
    "name": "ipython",
    "version": 3
   },
   "file_extension": ".py",
   "mimetype": "text/x-python",
   "name": "python",
   "nbconvert_exporter": "python",
   "pygments_lexer": "ipython3",
   "version": "3.9.7 (default, Sep 16 2021, 16:59:28) [MSC v.1916 64 bit (AMD64)]"
  },
  "orig_nbformat": 4,
  "vscode": {
   "interpreter": {
    "hash": "b33cbd221e9be3538ef108613c2d5cc2f9d7369f303fc2904bee642d4ab700d9"
   }
  }
 },
 "nbformat": 4,
 "nbformat_minor": 2
}
